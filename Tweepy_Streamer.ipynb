{
  "nbformat": 4,
  "nbformat_minor": 0,
  "metadata": {
    "colab": {
      "name": "Tweepy_Streamer.ipynb",
      "provenance": [],
      "authorship_tag": "ABX9TyPLcQUh0x8hvtJisx+EeEOw",
      "include_colab_link": true
    },
    "kernelspec": {
      "name": "python3",
      "display_name": "Python 3"
    },
    "accelerator": "GPU"
  },
  "cells": [
    {
      "cell_type": "markdown",
      "metadata": {
        "id": "view-in-github",
        "colab_type": "text"
      },
      "source": [
        "<a href=\"https://colab.research.google.com/github/ASHOKnimiwal/Twitter_Streaming/blob/master/Tweepy_Streamer.ipynb\" target=\"_parent\"><img src=\"https://colab.research.google.com/assets/colab-badge.svg\" alt=\"Open In Colab\"/></a>"
      ]
    },
    {
      "cell_type": "markdown",
      "metadata": {
        "id": "4NscI-L38YUw",
        "colab_type": "text"
      },
      "source": [
        "### **Note: You have to first fill the twitter_credentials file variables with your own unique TweepyAPI secret keys and tokens in order to stream the tweets.** \n",
        "\n"
      ]
    },
    {
      "cell_type": "markdown",
      "metadata": {
        "id": "R8uDvhEx6SVJ",
        "colab_type": "text"
      },
      "source": [
        "Importing required modules, files and libraries "
      ]
    },
    {
      "cell_type": "code",
      "metadata": {
        "id": "qBA7jmKN59nP",
        "colab_type": "code",
        "colab": {}
      },
      "source": [
        "from tweepy.streaming import StreamListener\n",
        "from tweepy import OAuthHandler\n",
        "from tweepy import Stream\n",
        "  \n",
        "import twitter_credentials "
      ],
      "execution_count": 10,
      "outputs": []
    },
    {
      "cell_type": "markdown",
      "metadata": {
        "id": "xFX_Nt3t7EWh",
        "colab_type": "text"
      },
      "source": [
        "Twitter Streamer"
      ]
    },
    {
      "cell_type": "code",
      "metadata": {
        "id": "l5c4Bvrg6_7E",
        "colab_type": "code",
        "colab": {}
      },
      "source": [
        "class TwitterStreamer():\n",
        "    \"\"\"\n",
        "    Class for streaming and processing live tweets.\n",
        "    \"\"\"\n",
        "    def __init__(self):\n",
        "        pass\n",
        "\n",
        "    def stream_tweets(self, fetched_tweets_filename, hash_tag_list):\n",
        "        # This handles Twitter authetification and the connection to Twitter Streaming API\n",
        "        listener = StdOutListener(fetched_tweets_filename)\n",
        "        auth = OAuthHandler(twitter_credentials.CONSUMER_KEY, twitter_credentials.CONSUMER_SECRET)\n",
        "        auth.set_access_token(twitter_credentials.ACCESS_TOKEN, twitter_credentials.ACCESS_TOKEN_SECRET)\n",
        "        stream = Stream(auth, listener)\n",
        "\n",
        "        # This line filter Twitter Streams to capture data by the keywords: \n",
        "        stream.filter(track=hash_tag_list)"
      ],
      "execution_count": 7,
      "outputs": []
    },
    {
      "cell_type": "markdown",
      "metadata": {
        "id": "tsswsvke7QN4",
        "colab_type": "text"
      },
      "source": [
        "Twitter Stream Listener"
      ]
    },
    {
      "cell_type": "code",
      "metadata": {
        "id": "HInrnBju7NWp",
        "colab_type": "code",
        "colab": {}
      },
      "source": [
        "class StdOutListener(StreamListener):\n",
        "    \"\"\"\n",
        "    This is a basic listener that just prints received tweets to stdout.\n",
        "    \"\"\"\n",
        "    def __init__(self, fetched_tweets_filename):\n",
        "        self.fetched_tweets_filename = fetched_tweets_filename\n",
        "\n",
        "    def on_data(self, data):\n",
        "        try:\n",
        "            print(data)\n",
        "            with open(self.fetched_tweets_filename, 'a') as tf:\n",
        "                tf.write(data)\n",
        "            return True\n",
        "        except BaseException as e:\n",
        "            print(\"Error on_data %s\" % str(e))\n",
        "        return True\n",
        "          \n",
        "\n",
        "    def on_error(self, status):\n",
        "        print(status)"
      ],
      "execution_count": 8,
      "outputs": []
    },
    {
      "cell_type": "markdown",
      "metadata": {
        "id": "NGc9yRPP7cvw",
        "colab_type": "text"
      },
      "source": [
        "Main Program"
      ]
    },
    {
      "cell_type": "code",
      "metadata": {
        "id": "VoBdHknO7rRt",
        "colab_type": "code",
        "colab": {}
      },
      "source": [
        "if __name__ == '__main__':\n",
        " \n",
        "    # Authenticate using config.py and connect to Twitter Streaming API.\n",
        "    hash_tag_list = [\"virat kohli\", \"ms dhoni\", \"rohit sharma\", \"kl rahul\", \"jadeja\"]\n",
        "    fetched_tweets_filename = \"tweets.txt\"\n",
        "\n",
        "    twitter_streamer = TwitterStreamer()\n",
        "    twitter_streamer.stream_tweets(fetched_tweets_filename, hash_tag_list)\n"
      ],
      "execution_count": null,
      "outputs": []
    }
  ]
}